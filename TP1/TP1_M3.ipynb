{
  "nbformat": 4,
  "nbformat_minor": 0,
  "metadata": {
    "colab": {
      "provenance": [],
      "collapsed_sections": [
        "0FExtfK3gTsD",
        "gNFhxLX7ghcz"
      ]
    },
    "kernelspec": {
      "name": "python3",
      "display_name": "Python 3"
    },
    "language_info": {
      "name": "python"
    }
  },
  "cells": [
    {
      "cell_type": "markdown",
      "source": [
        "#**Trabajo Práctico N° 1 - Parte 1**\n",
        "# **Procesos**"
      ],
      "metadata": {
        "id": "jrtQ7MVvf93n"
      }
    },
    {
      "cell_type": "markdown",
      "source": [
        "##Enunciado:\n",
        "###*Generar* el siguiente árbol de procesos en los lenguajes: C, Java y Python.\n"
      ],
      "metadata": {
        "id": "eMuIOedofl7F"
      }
    },
    {
      "cell_type": "markdown",
      "source": [
        "###**Lenguaje Python**"
      ],
      "metadata": {
        "id": "0FExtfK3gTsD"
      }
    },
    {
      "cell_type": "code",
      "execution_count": null,
      "metadata": {
        "colab": {
          "base_uri": "https://localhost:8080/"
        },
        "id": "-wNyx55AdmPf",
        "outputId": "e3dec5c0-34c0-49b2-9164-390c2cbd339a"
      },
      "outputs": [
        {
          "output_type": "stream",
          "name": "stdout",
          "text": [
            "Writing procesos.py\n"
          ]
        }
      ],
      "source": [
        "%%writefile procesos.py\n",
        "import os\n",
        "import sys\n",
        "import time\n",
        "\n",
        "\n",
        "def main():\n",
        "    print(f\"PID: {os.getpid()} PPID: {os.getppid()} Letra: A\")\n",
        "    time.sleep(5)\n",
        "\n",
        "    pid = os.fork()\n",
        "\n",
        "    if pid < 0:\n",
        "        sys.exit(\"Error al crear el primer proceso.\")\n",
        "\n",
        "    if pid == 0: # A crea B\n",
        "        print(f\"PID: {os.getpid()} PPID: {os.getppid()} Letra: B\")\n",
        "        time.sleep(5)\n",
        "\n",
        "        pid = os.fork()\n",
        "        if pid == 0: # B crea C\n",
        "            print(f\"PID: {os.getpid()} PPID: {os.getppid()} Letra: C\")\n",
        "            time.sleep(5)\n",
        "\n",
        "            pid = os.fork()\n",
        "            if pid == 0: # C crea E\n",
        "                print(f\"PID: {os.getpid()} PPID: {os.getppid()} Letra: E\")\n",
        "                time.sleep(5)\n",
        "\n",
        "                pid = os.fork()\n",
        "                if pid == 0: # E crea H\n",
        "                    print(f\"PID: {os.getpid()} PPID: {os.getppid()} Letra: H\")\n",
        "                    time.sleep(5)\n",
        "                else:\n",
        "                    pid = os.fork()\n",
        "                    if pid == 0: # E crea I\n",
        "                        print(f\"PID: {os.getpid()} PPID: {os.getppid()} Letra: I\")\n",
        "                        time.sleep(5)\n",
        "        else: # B crea D\n",
        "            pid = os.fork()\n",
        "            if pid == 0:\n",
        "                print(f\"PID: {os.getpid()} PPID: {os.getppid()} Letra: D\")\n",
        "                time.sleep(5)\n",
        "\n",
        "                pid = os.fork()\n",
        "                if pid == 0: # D crea F\n",
        "                    print(f\"PID: {os.getpid()} PPID: {os.getppid()} Letra: F\")\n",
        "                    time.sleep(5)\n",
        "                else:\n",
        "                    pid = os.fork()\n",
        "                    if pid == 0: # D crea G\n",
        "                        print(f\"PID: {os.getpid()} PPID: {os.getppid()} Letra: G\")\n",
        "                        time.sleep(5)\n",
        "\n",
        "    while True:\n",
        "        try:\n",
        "            os.wait()\n",
        "        except ChildProcessError:\n",
        "            break\n",
        "\n",
        "\n",
        "if __name__ == \"__main__\":\n",
        "    main()"
      ]
    },
    {
      "cell_type": "code",
      "source": [
        "!chmod 700 ./procesos.py"
      ],
      "metadata": {
        "id": "LCyWgEn3i1Ky"
      },
      "execution_count": null,
      "outputs": []
    },
    {
      "cell_type": "markdown",
      "source": [
        "Ejecuto en segundo plano el script de Python, para que mientras se este ejecutando este script se pueda usar el comando ps y pstree"
      ],
      "metadata": {
        "id": "8vjuEDUBlFuS"
      }
    },
    {
      "cell_type": "code",
      "source": [
        "!nohup python procesos.py 1>salidaPython 2>/dev/null &"
      ],
      "metadata": {
        "id": "D4LEWzpvjZAv"
      },
      "execution_count": null,
      "outputs": []
    },
    {
      "cell_type": "markdown",
      "source": [
        "Compruebo su ejecución y árbol de procesos con pstree"
      ],
      "metadata": {
        "id": "deyDGuAOlJLp"
      }
    },
    {
      "cell_type": "code",
      "source": [
        "!ps -ef | grep procesos.py\n"
      ],
      "metadata": {
        "colab": {
          "base_uri": "https://localhost:8080/"
        },
        "id": "rjP4LztNjcWu",
        "outputId": "264ac7ce-78d9-48ab-bb09-7d8f0733b5d9"
      },
      "execution_count": null,
      "outputs": [
        {
          "output_type": "stream",
          "name": "stdout",
          "text": [
            "root        7338     458  0 16:38 ?        00:00:00 /bin/bash -c ps -ef | grep procesos.py\n",
            "root        7340    7338  0 16:38 ?        00:00:00 grep procesos.py\n"
          ]
        }
      ]
    },
    {
      "cell_type": "code",
      "source": [
        "!pstree -pc"
      ],
      "metadata": {
        "id": "iFBu6b43jhUa",
        "colab": {
          "base_uri": "https://localhost:8080/"
        },
        "outputId": "640e88ee-1bab-4616-daa2-b0d9a4aeaa47"
      },
      "execution_count": null,
      "outputs": [
        {
          "output_type": "stream",
          "name": "stdout",
          "text": [
            "python3(7019)───python3(7047)───python3(7075)───python3(7103)─┬─python3(7122)\n",
            "                                                              └─python3(7123)\n"
          ]
        }
      ]
    },
    {
      "cell_type": "markdown",
      "source": [
        "###**Lenguaje C**"
      ],
      "metadata": {
        "id": "gNFhxLX7ghcz"
      }
    },
    {
      "cell_type": "code",
      "source": [
        "%%writefile procesos.c\n",
        "#include <stdio.h>\n",
        "#include <unistd.h>\n",
        "#include <sys/types.h>\n",
        "#include <sys/wait.h>\n",
        "#include <stdlib.h>\n",
        "\n",
        "#define TIME_WAIT 5\n",
        "\n",
        "int main(){\n",
        "    pid_t pid_B, pid_C, pid_D, pid_E, pid_F, pid_G, pid_H, pid_I;\n",
        "\n",
        "    printf(\"Process A (PID: %d)\\n\", getpid());\n",
        "    sleep(TIME_WAIT);\n",
        "    pid_B = fork(); // A crea B\n",
        "    if (pid_B == 0) {\n",
        "        printf(\"Process B (PID: %d, Parent: %d)\\n\", getpid(), getppid());\n",
        "        sleep(TIME_WAIT);\n",
        "\n",
        "        pid_C = fork(); // B crea C\n",
        "\n",
        "        if (pid_C == 0) {\n",
        "            printf(\"Process C (PID: %d, Parent: %d)\\n\", getpid(), getppid());\n",
        "            sleep(TIME_WAIT);\n",
        "\n",
        "            pid_E = fork(); // C crea E\n",
        "            if (pid_E == 0) {\n",
        "                printf(\"Process E (PID: %d, Parent: %d)\\n\", getpid(), getppid());\n",
        "                sleep(TIME_WAIT);\n",
        "\n",
        "                pid_H = fork(); // E crea H\n",
        "                if (pid_H == 0) {\n",
        "                    printf(\"Process H (PID: %d, Parent: %d)\\n\", getpid(), getppid());\n",
        "                    sleep(TIME_WAIT);\n",
        "                    return EXIT_SUCCESS; // Detener H\n",
        "                }\n",
        "\n",
        "                pid_I = fork(); // E crea I\n",
        "                if (pid_I == 0) {\n",
        "                    printf(\"Process I (PID: %d, Parent: %d)\\n\", getpid(), getppid());\n",
        "                    sleep(TIME_WAIT);\n",
        "                    return EXIT_SUCCESS; // Detener I\n",
        "                }\n",
        "\n",
        "                wait(NULL); // Esperar a H e I\n",
        "                wait(NULL); // Esperar a H e I\n",
        "                return EXIT_SUCCESS; // Detener E\n",
        "            }\n",
        "\n",
        "            wait(NULL); // Esperar a E\n",
        "            return EXIT_SUCCESS; // Detener C\n",
        "        }\n",
        "\n",
        "        pid_D = fork(); // B crea D\n",
        "        if (pid_D == 0) {\n",
        "            printf(\"Process D (PID: %d, Parent: %d)\\n\", getpid(), getppid());\n",
        "            sleep(TIME_WAIT);\n",
        "\n",
        "            pid_F = fork(); // D crea F\n",
        "            if (pid_F == 0) {\n",
        "                printf(\"Process F (PID: %d, Parent: %d)\\n\", getpid(), getppid());\n",
        "                sleep(TIME_WAIT);\n",
        "                return EXIT_SUCCESS; // Detener F\n",
        "            }\n",
        "\n",
        "            pid_G = fork(); // D crea G\n",
        "            if (pid_G == 0) {\n",
        "                printf(\"Process G (PID: %d, Parent: %d)\\n\", getpid(), getppid());\n",
        "                sleep(TIME_WAIT);\n",
        "                return EXIT_SUCCESS; // Detener G\n",
        "            }\n",
        "\n",
        "            wait(NULL); // Esperar a F y G\n",
        "            wait(NULL); // Esperar a F y G\n",
        "            return EXIT_SUCCESS; // Detener D\n",
        "        }\n",
        "\n",
        "        wait(NULL); // Esperar a C y D\n",
        "        wait(NULL); // Esperar a C y D\n",
        "        return EXIT_SUCCESS; // Detener B\n",
        "    }\n",
        "\n",
        "    wait(NULL); // Esperar a B\n",
        "    return EXIT_SUCCESS; // Detener A\n",
        "}"
      ],
      "metadata": {
        "id": "yw3l8h-AeDYi",
        "colab": {
          "base_uri": "https://localhost:8080/"
        },
        "outputId": "3813466a-5f19-4ba7-cc1a-9697d49f2504"
      },
      "execution_count": null,
      "outputs": [
        {
          "output_type": "stream",
          "name": "stdout",
          "text": [
            "Writing procesos.c\n"
          ]
        }
      ]
    },
    {
      "cell_type": "markdown",
      "source": [
        "Compilar el codigo C"
      ],
      "metadata": {
        "id": "4K6KLObcptDN"
      }
    },
    {
      "cell_type": "code",
      "source": [
        "!gcc -o procesos.bin procesos.c"
      ],
      "metadata": {
        "id": "iGq5dfH4lb41"
      },
      "execution_count": null,
      "outputs": []
    },
    {
      "cell_type": "markdown",
      "source": [
        "Este programa se ejecuta en segundo plano, permitiendo que, mientras se está ejecutando, se puedan utilizar los comandos 'ps' y 'pstree' para visualizar su proceso en el sistema."
      ],
      "metadata": {
        "id": "uERrFvMCp1US"
      }
    },
    {
      "cell_type": "code",
      "source": [
        "!nohup ./procesos.bin 1>salidaC 2>/dev/null &"
      ],
      "metadata": {
        "id": "f_azrj4Clbue"
      },
      "execution_count": null,
      "outputs": []
    },
    {
      "cell_type": "code",
      "source": [
        "!ps -ef | grep procesos.bin"
      ],
      "metadata": {
        "colab": {
          "base_uri": "https://localhost:8080/"
        },
        "id": "l1lR2XwElboT",
        "outputId": "5f26ec66-90da-4d7d-d601-a6ed709307bc"
      },
      "execution_count": null,
      "outputs": [
        {
          "output_type": "stream",
          "name": "stdout",
          "text": [
            "root       13189       1  0 15:58 ?        00:00:00 ./procesos.bin\n",
            "root       13198    3548  0 15:58 ?        00:00:00 /bin/bash -c ps -ef | grep procesos.bin\n",
            "root       13200   13198  0 15:58 ?        00:00:00 grep procesos.bin\n"
          ]
        }
      ]
    },
    {
      "cell_type": "code",
      "source": [
        "!pstree -pc"
      ],
      "metadata": {
        "id": "ioRoyJfelbb2",
        "colab": {
          "base_uri": "https://localhost:8080/"
        },
        "outputId": "67888cc8-8349-4885-bbcf-d2992a471eb7"
      },
      "execution_count": null,
      "outputs": [
        {
          "output_type": "stream",
          "name": "stdout",
          "text": [
            "procesos.bin(13189)───procesos.bin(13213)───procesos.bin(13236)───procesos.bin(13262)─┬─procesos.bi+\n",
            "                                                                                      └─procesos.bi+\n"
          ]
        }
      ]
    },
    {
      "cell_type": "code",
      "source": [
        "!pstree -p | grep procesos.bin"
      ],
      "metadata": {
        "id": "vFMuStQAyoM-"
      },
      "execution_count": null,
      "outputs": []
    },
    {
      "cell_type": "markdown",
      "source": [
        "###**Lenguaje Java**"
      ],
      "metadata": {
        "id": "qXg4eJCrgt99"
      }
    },
    {
      "cell_type": "markdown",
      "source": [
        "Instalar y configurar Java en Colab (si aún no está instalado)"
      ],
      "metadata": {
        "id": "L01A2Q3nxxe-"
      }
    },
    {
      "cell_type": "code",
      "source": [
        "!apt-get install openjdk-11-jdk-headless -qq > /dev/null\n",
        "!java -version"
      ],
      "metadata": {
        "colab": {
          "base_uri": "https://localhost:8080/"
        },
        "id": "XABIPVU8vPzj",
        "outputId": "d353f8c4-28ce-4723-9696-52bbd5490ea2"
      },
      "execution_count": null,
      "outputs": [
        {
          "output_type": "stream",
          "name": "stdout",
          "text": [
            "openjdk version \"11.0.23\" 2024-04-16\n",
            "OpenJDK Runtime Environment (build 11.0.23+9-post-Ubuntu-1ubuntu122.04.1)\n",
            "OpenJDK 64-Bit Server VM (build 11.0.23+9-post-Ubuntu-1ubuntu122.04.1, mixed mode, sharing)\n"
          ]
        }
      ]
    },
    {
      "cell_type": "code",
      "source": [
        "%%writefile childProcess.java\n",
        "import java.io.IOException;\n",
        "\n",
        "public class ChildProcess {\n",
        "\n",
        "    public static void main(String[] args) throws IOException, InterruptedException {\n",
        "        Process[] childs;\n",
        "        char[] letters;\n",
        "\n",
        "        switch (args[0]) {\n",
        "            case \"B\":\n",
        "                System.out.println(\"PID: \" + getPID() + \" PPID: \" + getPPID() + \" Letra: \" + args[0]);\n",
        "                Thread.sleep(10000);\n",
        "                letters = new char[] { 'C', 'D' };\n",
        "                childs = new Process[letters.length];\n",
        "                for (int i = 0; i < letters.length; i++) {\n",
        "                    childs[i] = createChild(letters[i]);\n",
        "                }\n",
        "                waitChilds(letters.length, childs);\n",
        "                System.exit(0);\n",
        "            case \"C\":\n",
        "                System.out.println(\"PID: \" + getPID() + \" PPID: \" + getPPID() + \" Letra: \" + args[0]);\n",
        "                Thread.sleep(10000);\n",
        "                letters = new char[] { 'E' };\n",
        "                childs = new Process[letters.length];\n",
        "                for (int i = 0; i < letters.length; i++) {\n",
        "                    childs[i] = createChild(letters[i]);\n",
        "                }\n",
        "                waitChilds(letters.length, childs);\n",
        "                System.exit(0);\n",
        "            case \"D\":\n",
        "                System.out.println(\"PID: \" + getPID() + \" PPID: \" + getPPID() + \" Letra: \" + args[0]);\n",
        "                Thread.sleep(10000);\n",
        "                letters = new char[] { 'F', 'G' };\n",
        "                childs = new Process[letters.length];\n",
        "                for (int i = 0; i < letters.length; i++) {\n",
        "                    childs[i] = createChild(letters[i]);\n",
        "                }\n",
        "                waitChilds(letters.length, childs);\n",
        "                System.exit(0);\n",
        "            case \"E\":\n",
        "                System.out.println(\"PID: \" + getPID() + \" PPID: \" + getPPID() + \" Letra: \" + args[0]);\n",
        "                Thread.sleep(10000);\n",
        "                letters = new char[] { 'H', 'I' };\n",
        "                childs = new Process[letters.length];\n",
        "                for (int i = 0; i < letters.length; i++) {\n",
        "                    childs[i] = createChild(letters[i]);\n",
        "                }\n",
        "                waitChilds(letters.length, childs);\n",
        "                System.exit(0);\n",
        "            case \"F\":\n",
        "            case \"G\":\n",
        "            case \"H\":\n",
        "            case \"I\":\n",
        "                System.out.println(\"PID: \" + getPID() + \" PPID: \" + getPPID() + \" Letra: \" + args[0]);\n",
        "                Thread.sleep(10000);\n",
        "                System.exit(0);\n",
        "            default:\n",
        "                break;\n",
        "        }\n",
        "    }\n",
        "\n",
        "    public static long getPID() {\n",
        "        return ProcessHandle.current().pid();\n",
        "    }\n",
        "\n",
        "    public static long getPPID() {\n",
        "        return ProcessHandle.current().parent().get().pid();\n",
        "    }\n",
        "\n",
        "    public static Process createChild(char letter) throws IOException {\n",
        "        ProcessBuilder builder = new ProcessBuilder(\"java\", \"/content/ChildProcess.java\",\n",
        "                Character.toString(letter));\n",
        "        ;\n",
        "        builder.inheritIO();\n",
        "        return builder.start();\n",
        "    }\n",
        "\n",
        "    public static void waitChilds(int numberOfChilds, Process[] childs) throws InterruptedException {\n",
        "        for (int i = 0; i < numberOfChilds; i++) {\n",
        "            childs[i].waitFor();\n",
        "        }\n",
        "    }\n",
        "}"
      ],
      "metadata": {
        "id": "W-Ktui0aeTlK",
        "colab": {
          "base_uri": "https://localhost:8080/"
        },
        "outputId": "015e215b-e5d9-4f9c-e9c6-7115e5b02ae1"
      },
      "execution_count": null,
      "outputs": [
        {
          "output_type": "stream",
          "name": "stdout",
          "text": [
            "Overwriting childProcess.java\n"
          ]
        }
      ]
    },
    {
      "cell_type": "code",
      "source": [
        "%%writefile parentProcess.java\n",
        "import java.io.IOException;\n",
        "\n",
        "public class ParentProcess {\n",
        "\n",
        "    public static void main(String[] args) throws IOException, InterruptedException {\n",
        "        Process[] childs;\n",
        "        char[] letters;\n",
        "\n",
        "        System.out.println(\"PID: \" + getPID() + \" PPID: \" + getPPID() + \" Letra: A\");\n",
        "        Thread.sleep(10000);\n",
        "        letters = new char[] { 'B' };\n",
        "        childs = new Process[letters.length];\n",
        "        for (int i = 0; i < letters.length; i++) {\n",
        "            childs[i] = createChild(letters[i]);\n",
        "        }\n",
        "        waitChilds(letters.length, childs);\n",
        "        System.exit(0);\n",
        "    }\n",
        "\n",
        "    public static long getPID() {\n",
        "        return ProcessHandle.current().pid();\n",
        "    }\n",
        "\n",
        "    public static long getPPID() {\n",
        "        return ProcessHandle.current().parent().get().pid();\n",
        "    }\n",
        "\n",
        "    public static Process createChild(char letter) throws IOException {\n",
        "        ProcessBuilder builder = new ProcessBuilder(\"java\", \"/content/ChildProcess.java\",\n",
        "                Character.toString(letter));\n",
        "        builder.inheritIO();\n",
        "        return builder.start();\n",
        "    }\n",
        "\n",
        "    public static void waitChilds(int numberOfChilds, Process[] childs) throws InterruptedException {\n",
        "        for (int i = 0; i < numberOfChilds; i++) {\n",
        "            childs[i].waitFor();\n",
        "        }\n",
        "    }\n",
        "}"
      ],
      "metadata": {
        "id": "T90OAjP6h8iy",
        "colab": {
          "base_uri": "https://localhost:8080/"
        },
        "outputId": "ee5e7ae8-1019-48fd-e941-1149023c1cbd"
      },
      "execution_count": null,
      "outputs": [
        {
          "output_type": "stream",
          "name": "stdout",
          "text": [
            "Overwriting parentProcess.java\n"
          ]
        }
      ]
    },
    {
      "cell_type": "code",
      "source": [
        "!nohup java parentProcess.java 1>salidaJava 2>/dev/null &"
      ],
      "metadata": {
        "id": "IMWIlcbdutN0"
      },
      "execution_count": null,
      "outputs": []
    },
    {
      "cell_type": "code",
      "source": [
        "!ps -ef | grep parentProcess.java"
      ],
      "metadata": {
        "colab": {
          "base_uri": "https://localhost:8080/"
        },
        "id": "xTymfJOiut_V",
        "outputId": "cd7871e8-2509-4481-e93f-73ebc2f416ec"
      },
      "execution_count": null,
      "outputs": [
        {
          "output_type": "stream",
          "name": "stdout",
          "text": [
            "root        7588       1 99 16:39 ?        00:00:02 java parentProcess.java\n",
            "root        7614     458  0 16:39 ?        00:00:00 /bin/bash -c ps -ef | grep parentProcess.java\n",
            "root        7616    7614  0 16:39 ?        00:00:00 grep parentProcess.java\n"
          ]
        }
      ]
    },
    {
      "cell_type": "code",
      "source": [
        "!ps -ef | grep childProcess.java"
      ],
      "metadata": {
        "colab": {
          "base_uri": "https://localhost:8080/"
        },
        "id": "MBpxIcrgwwgH",
        "outputId": "3e0686f1-2769-427d-e771-d47aa800ebbd"
      },
      "execution_count": null,
      "outputs": [
        {
          "output_type": "stream",
          "name": "stdout",
          "text": [
            "root        7573     458  0 16:39 ?        00:00:00 /bin/bash -c ps -ef | grep childProcess.java\n",
            "root        7575    7573  0 16:39 ?        00:00:00 grep childProcess.java\n"
          ]
        }
      ]
    },
    {
      "cell_type": "code",
      "source": [
        "!pstree -p | grep java"
      ],
      "metadata": {
        "colab": {
          "base_uri": "https://localhost:8080/"
        },
        "collapsed": true,
        "id": "8o9Iy7S7vtMR",
        "outputId": "d80183dd-5b9f-4dd7-8067-c2995e394bf4"
      },
      "execution_count": null,
      "outputs": [
        {
          "output_type": "stream",
          "name": "stdout",
          "text": [
            "docker-init(1)-+-java(7588)-+-{java}(7589)\n",
            "               |            |-{java}(7590)\n",
            "               |            |-{java}(7591)\n",
            "               |            |-{java}(7592)\n",
            "               |            |-{java}(7593)\n",
            "               |            |-{java}(7594)\n",
            "               |            |-{java}(7595)\n",
            "               |            |-{java}(7596)\n",
            "               |            |-{java}(7597)\n",
            "               |            |-{java}(7600)\n",
            "               |            |-{java}(7601)\n",
            "               |            |-{java}(7603)\n",
            "               |            |-{java}(7604)\n",
            "               |            |-{java}(7606)\n",
            "               |            |-{java}(7607)\n",
            "               |            |-{java}(7608)\n",
            "               |            `-{java}(7609)\n"
          ]
        }
      ]
    }
  ]
}